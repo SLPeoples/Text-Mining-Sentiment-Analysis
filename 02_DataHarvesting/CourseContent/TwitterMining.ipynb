{
 "cells": [
  {
   "cell_type": "markdown",
   "metadata": {},
   "source": [
    "# Twitter Text Mining - Required Libraries"
   ]
  },
  {
   "cell_type": "code",
   "execution_count": 2,
   "metadata": {
    "collapsed": true
   },
   "outputs": [],
   "source": [
    "library(twitteR)\n",
    "library(ROAuth)\n",
    "library(RCurl)\n",
    "library(httr)\n",
    "\n",
    "library(stringr)\n",
    "library(plyr)\n",
    "library(dplyr)\n",
    "library(tm)\n",
    "\n",
    "#library(ggmap)\n",
    "#library(wordcloud)"
   ]
  },
  {
   "cell_type": "markdown",
   "metadata": {},
   "source": [
    "# Establishing A Connection - Direct Method\n",
    "\n",
    "Enter your key and token from your twitter developer page"
   ]
  },
  {
   "cell_type": "code",
   "execution_count": null,
   "metadata": {
    "collapsed": true
   },
   "outputs": [],
   "source": [
    "key=\" \"\n",
    "secret=\" \"\n",
    "\n",
    "atoken =  \" \"\n",
    "asecret = \" \"\n",
    "\n",
    "setup_twitter_oauth(key, secret, atoken, asecret)"
   ]
  },
  {
   "cell_type": "markdown",
   "metadata": {},
   "source": [
    "# Sentiment Score Function - approach after J. Breen"
   ]
  },
  {
   "cell_type": "code",
   "execution_count": null,
   "metadata": {
    "collapsed": true
   },
   "outputs": [],
   "source": [
    "library(\"stringr\")\n",
    "\n",
    "library(\"plyr\")\n",
    "\n",
    "# Function is called sentimentfun\n",
    "sentimentfun = function(tweettext, pos, neg, .progress='non')\n",
    "{\n",
    "  # Parameters\n",
    "  # tweettext: vector of text to score\n",
    "  # pos: vector of words of postive sentiment\n",
    "  # neg: vector of words of negative sentiment\n",
    "  # .progress: passed to laply() 4 control of progress bar\n",
    "  \n",
    "  # create simple array of scores with laply\n",
    "  scores = laply(tweettext,\n",
    "        function(singletweet, pos, neg){\n",
    "            # remove punctuation - using global substitute\n",
    "            singletweet = gsub(\"[[:punct:]]\", \"\", singletweet)\n",
    "            # remove control characters\n",
    "           singletweet = gsub(\"[[:cntrl:]]\", \"\", singletweet)\n",
    "           # remove digits\n",
    "           singletweet = gsub(\"\\\\d+\", \"\", singletweet)\n",
    "\n",
    "           # define error handling function when trying tolower\n",
    "           tryTolower = function(x){\n",
    "             # create missing value\n",
    "             y = NA\n",
    "             # tryCatch error\n",
    "             try_error = tryCatch(tolower(x), error=function(e) e)\n",
    "             # if not an error\n",
    "             if (!inherits(try_error, \"error\"))\n",
    "               y = tolower(x)\n",
    "             # result\n",
    "             return(y)}\n",
    "           # use tryTolower with sapply \n",
    "           singletweet = sapply(singletweet, tryTolower)\n",
    "\n",
    "           # split sentence into words with str_split (stringr package)\n",
    "           word.list = str_split(singletweet, \"\\\\s+\")\n",
    "           words = unlist(word.list)\n",
    "\n",
    "           # compare words to the dictionaries of positive & negative terms\n",
    "           pos.matches = match(words, pos)\n",
    "           neg.matches = match(words, neg)\n",
    "\n",
    "           # get the position of the matched term or NA\n",
    "           # we just want a TRUE/FALSE\n",
    "           pos.matches = !is.na(pos.matches)\n",
    "           neg.matches = !is.na(neg.matches)\n",
    "\n",
    "           # final score\n",
    "           score = sum(pos.matches) - sum(neg.matches)\n",
    "           return(score)}, \n",
    "        pos, neg, .progress=.progress)\n",
    "  \n",
    "  # data frame with scores for each sentence\n",
    "  sentiment.df = data.frame(text=tweettext, score=scores)\n",
    "  return(sentiment.df)\n",
    "}"
   ]
  },
  {
   "cell_type": "markdown",
   "metadata": {},
   "source": [
    "# Using searchTwitter for our project \n",
    "\n",
    "* Los Angeles, geocode=\"34.052,-118.244,200mi\"\n",
    "* New York, geocode=\"40.713,-74.006,200mi\"\n",
    "* Austin, geocode=\"30.267,-97.743,500mi\"\n",
    "* Seattle, geocode=\"47.606,-122.332,500mi\"\n",
    "\n",
    "### Searching for 'apple+iphone' or 'samsung+galaxy'\n",
    "### Since is always 14 days prior to run-date, due to API restrictions"
   ]
  },
  {
   "cell_type": "code",
   "execution_count": null,
   "metadata": {
    "collapsed": true
   },
   "outputs": [],
   "source": [
    "tweets =searchTwitter(\"samsung+galaxy\", n=2000, \n",
    "                      lang=\"en\", \n",
    "                      geocode=\"47.606,-122.332,500mi\",\n",
    "                      since = \"2017-12-04\")"
   ]
  },
  {
   "cell_type": "markdown",
   "metadata": {},
   "source": [
    "# Extracting the text"
   ]
  },
  {
   "cell_type": "code",
   "execution_count": null,
   "metadata": {
    "collapsed": true
   },
   "outputs": [],
   "source": [
    "tweettext = sapply(tweets, function(x) x$getText())"
   ]
  },
  {
   "cell_type": "markdown",
   "metadata": {},
   "source": [
    "## First cleaning stage"
   ]
  },
  {
   "cell_type": "code",
   "execution_count": null,
   "metadata": {
    "collapsed": true
   },
   "outputs": [],
   "source": [
    "tweettext=lapply(tweettext, function(x) iconv(x, \"latin1\", \n",
    "                                              \"ASCII\", sub=\"\"))\n",
    "tweettext=lapply(tweettext, function(x) gsub(\"htt.*\",' ',x))\n",
    "tweettext=lapply(tweettext, function(x) gsub(\"#\",'',x))\n",
    "tweettext=unlist(tweettext)"
   ]
  },
  {
   "cell_type": "markdown",
   "metadata": {},
   "source": [
    "# Getting the opinion lexicons from working directory"
   ]
  },
  {
   "cell_type": "code",
   "execution_count": null,
   "metadata": {
    "collapsed": true
   },
   "outputs": [],
   "source": [
    "pos = readLines(\"positive_words.txt\")\n",
    "neg = readLines(\"negative_words.txt\")\n",
    "\n",
    "neg2 = c(neg, \"bearish\", \"fraud\"); tail(neg2)"
   ]
  },
  {
   "cell_type": "markdown",
   "metadata": {},
   "source": [
    "## Apply function score.sentiment"
   ]
  },
  {
   "cell_type": "code",
   "execution_count": null,
   "metadata": {
    "collapsed": true
   },
   "outputs": [],
   "source": [
    "scores = sentimentfun(tweettext, pos, neg, .progress='text')"
   ]
  },
  {
   "cell_type": "markdown",
   "metadata": {},
   "source": [
    "# Extracting further elements (besides text) for the export csv"
   ]
  },
  {
   "cell_type": "code",
   "execution_count": null,
   "metadata": {
    "collapsed": true
   },
   "outputs": [],
   "source": [
    "tweetdate=lapply(tweets, function(x) x$getCreated())\n",
    "tweetdate=sapply(\n",
    "    tweetdate,function(x) strftime(\n",
    "        x, format=\"%Y-%m-%d %H:%M:%S\",tz = \"UTC\"))\n",
    "\n",
    "isretweet=sapply(tweets, function(x) x$getIsRetweet())\n",
    "\n",
    "retweetcount=sapply(tweets, function(x) x$getRetweetCount())\n",
    "\n",
    "favoritecount=sapply(tweets, function(x) x$getFavoriteCount())"
   ]
  },
  {
   "cell_type": "markdown",
   "metadata": {},
   "source": [
    "# Creating the Data Frame"
   ]
  },
  {
   "cell_type": "code",
   "execution_count": null,
   "metadata": {
    "collapsed": true
   },
   "outputs": [],
   "source": [
    "data=as.data.frame(cbind(ttext=tweettext,\n",
    "                         date=tweetdate,\n",
    "                         isretweet=isretweet, \n",
    "                         retweetcount=retweetcount,\n",
    "                         favoritecount=favoritecount,\n",
    "                         score = scores$score,\n",
    "                         product = \"Samsung Galaxy\",\n",
    "                         city = \"Seattle\", country = \"USA\"))"
   ]
  },
  {
   "cell_type": "markdown",
   "metadata": {},
   "source": [
    "## Remove duplicates"
   ]
  },
  {
   "cell_type": "code",
   "execution_count": null,
   "metadata": {
    "collapsed": true
   },
   "outputs": [],
   "source": [
    "data2 = duplicated(data[,1])\n",
    "data$duplicate = data2"
   ]
  },
  {
   "cell_type": "markdown",
   "metadata": {},
   "source": [
    "## Create file to wd"
   ]
  },
  {
   "cell_type": "code",
   "execution_count": null,
   "metadata": {
    "collapsed": true
   },
   "outputs": [],
   "source": [
    "write.csv(data, file= \"samsung_seattle.csv\")"
   ]
  }
 ],
 "metadata": {
  "kernelspec": {
   "display_name": "R",
   "language": "R",
   "name": "ir"
  },
  "language_info": {
   "codemirror_mode": "r",
   "file_extension": ".r",
   "mimetype": "text/x-r-source",
   "name": "R",
   "pygments_lexer": "r",
   "version": "3.4.2"
  }
 },
 "nbformat": 4,
 "nbformat_minor": 2
}
